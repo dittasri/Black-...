{
 "cells": [
  {
   "cell_type": "code",
   "execution_count": 13,
   "id": "025ab6ab",
   "metadata": {},
   "outputs": [],
   "source": [
    "input_file_path = 'C:/path/to/your/Input.xlsx'\n"
   ]
  },
  {
   "cell_type": "code",
   "execution_count": 15,
   "id": "465df062",
   "metadata": {},
   "outputs": [
    {
     "name": "stdout",
     "output_type": "stream",
     "text": [
      "Current working directory: C:\\Users\\SRI BHAVYA\n",
      "Files in the current directory: ['.cache', '.conda', '.condarc', '.continuum', '.ipynb_checkpoints', '.ipython', '.jupyter', '.matplotlib', 'anaconda3', 'AppData', 'Application Data', 'assg3.ipynb', 'assg3.mhtml', 'assg4-Copy1.ipynb', 'assg4.ipynb', 'assignment2.ipynb', 'avocado 1.1.ipynb', 'b4.html', 'baseball 1.ipynb', 'bhavya.ipynb', 'bhavya1-Copy1.ipynb', 'bhavya1.1-Copy1.ipynb', 'bhavya1.1.ipynb', 'bhavya1.ipynb', 'BlackCoffer.ipynb', 'Blog 1.ipynb', 'blog-Copy1.ipynb', 'blog.ipynb', 'census 1.ipynb', 'Contacts', 'Cookies', 'Documents', 'Downloads', 'Dropbox', 'EDA.ipynb', 'Favorites', 'final 1-Copy1.ipynb', 'final 1.1-Copy1.ipynb', 'final 1.1.ipynb', 'final 1.ipynb', 'final 2.1.ipynb', 'final 2.2.ipynb', 'final 2.ipynb', 'final1.2.ipynb', 'global power plant.ipynb', 'home assignment .ipynb', 'home assignment1.1.ipynb', 'HR 1.2.ipynb', 'insurance 1.2.ipynb', 'IntelGraphicsProfiles', 'Links', 'loan application.ipynb', 'Local Settings', 'machine learning.ipynb', 'Music', 'My Documents', 'NetHood', 'NTUSER.DAT', 'ntuser.dat.LOG1', 'ntuser.dat.LOG2', 'NTUSER.DAT{a2332f18-cdbf-11ec-8680-002248483d79}.TM.blf', 'NTUSER.DAT{a2332f18-cdbf-11ec-8680-002248483d79}.TMContainer00000000000000000001.regtrans-ms', 'NTUSER.DAT{a2332f18-cdbf-11ec-8680-002248483d79}.TMContainer00000000000000000002.regtrans-ms', 'ntuser.ini', 'OneDrive', 'Predicting_Customer_Churn_in_Telecommunication_Industry.docx', 'PrintHood', 'pro4-Copy1.ipynb', 'pro4.ipynb', 'proj1 red ,medical.ipynb', 'project 2..tit.ipynb', 'project..2 pred-Copy1.ipynb', 'project..2 pred.ipynb', 'project.4.ipynb', 'project3-Copy1.ipynb', 'project3.1-Copy1.ipynb', 'project3.1-Copy2.ipynb', 'project3.1.ipynb', 'project3.ipynb', 'rainfall 1.1.ipynb', 'Recent', 'sample.txt', 'sample_text.txt', 'Saved Games', 'Searches', 'SendTo', 'Start Menu', 'temperature forecast .ipynb', 'Templates', 'Untitled.ipynb', 'Untitled1.ipynb', 'Untitled10.ipynb', 'Untitled11.ipynb', 'Untitled12.ipynb', 'Untitled13.ipynb', 'Untitled14.ipynb', 'Untitled15.ipynb', 'Untitled16.ipynb', 'Untitled17.ipynb', 'Untitled18.ipynb', 'Untitled19.ipynb', 'Untitled2.ipynb', 'Untitled20.ipynb', 'Untitled21.ipynb', 'Untitled22.ipynb', 'Untitled23.ipynb', 'Untitled24.ipynb', 'Untitled25.ipynb', 'Untitled26.ipynb', 'Untitled27.ipynb', 'Untitled28.ipynb', 'Untitled29.ipynb', 'Untitled3.ipynb', 'Untitled30 (7).html', 'Untitled30.ipynb', 'Untitled31.ipynb', 'Untitled32.ipynb', 'Untitled33.ipynb', 'Untitled34.ipynb', 'Untitled35.ipynb', 'Untitled36.ipynb', 'Untitled37.ipynb', 'Untitled38.ipynb', 'Untitled39.ipynb', 'Untitled4.ipynb', 'Untitled40.ipynb', 'Untitled41.ipynb', 'Untitled42.ipynb', 'Untitled43.ipynb', 'Untitled44.ipynb', 'Untitled45.ipynb', 'Untitled46.ipynb', 'Untitled47.ipynb', 'Untitled48.ipynb', 'Untitled49.ipynb', 'Untitled5.ipynb', 'Untitled50.ipynb', 'Untitled51.ipynb', 'Untitled52.ipynb', 'Untitled53.ipynb', 'Untitled54.ipynb', 'Untitled55.ipynb', 'Untitled56.ipynb', 'Untitled57.ipynb', 'Untitled58.ipynb', 'Untitled59.ipynb', 'Untitled6.ipynb', 'Untitled60.ipynb', 'Untitled61.ipynb', 'Untitled62.ipynb', 'Untitled63.ipynb', 'Untitled64.ipynb', 'Untitled65.ipynb', 'Untitled66.ipynb', 'Untitled67.ipynb', 'Untitled68.ipynb', 'Untitled69.ipynb', 'Untitled7.ipynb', 'Untitled70.ipynb', 'Untitled8.ipynb', 'Untitled9.ipynb', 'Videos', 'web scraping 111.ipynb', 'Web scraping. 28.11.2023', 'web scrapping.ipynb', 'zomato 1.3.ipynb']\n",
      "Looking for file at: C:\\Users\\SRI BHAVYA\\Input.xlsx\n"
     ]
    },
    {
     "ename": "FileNotFoundError",
     "evalue": "File not found: C:\\Users\\SRI BHAVYA\\Input.xlsx",
     "output_type": "error",
     "traceback": [
      "\u001b[1;31m---------------------------------------------------------------------------\u001b[0m",
      "\u001b[1;31mFileNotFoundError\u001b[0m                         Traceback (most recent call last)",
      "Cell \u001b[1;32mIn[15], line 19\u001b[0m\n\u001b[0;32m     17\u001b[0m \u001b[38;5;66;03m# Check if the file exists\u001b[39;00m\n\u001b[0;32m     18\u001b[0m \u001b[38;5;28;01mif\u001b[39;00m \u001b[38;5;129;01mnot\u001b[39;00m os\u001b[38;5;241m.\u001b[39mpath\u001b[38;5;241m.\u001b[39mexists(full_path):\n\u001b[1;32m---> 19\u001b[0m     \u001b[38;5;28;01mraise\u001b[39;00m \u001b[38;5;167;01mFileNotFoundError\u001b[39;00m(\u001b[38;5;124mf\u001b[39m\u001b[38;5;124m\"\u001b[39m\u001b[38;5;124mFile not found: \u001b[39m\u001b[38;5;132;01m{\u001b[39;00mfull_path\u001b[38;5;132;01m}\u001b[39;00m\u001b[38;5;124m\"\u001b[39m)\n\u001b[0;32m     21\u001b[0m \u001b[38;5;66;03m# Function to extract article (implement your logic here)\u001b[39;00m\n\u001b[0;32m     22\u001b[0m \u001b[38;5;28;01mdef\u001b[39;00m \u001b[38;5;21mextract_article\u001b[39m(url):\n\u001b[0;32m     23\u001b[0m     \u001b[38;5;66;03m# Dummy implementation\u001b[39;00m\n",
      "\u001b[1;31mFileNotFoundError\u001b[0m: File not found: C:\\Users\\SRI BHAVYA\\Input.xlsx"
     ]
    }
   ],
   "source": [
    "import os\n",
    "import pandas as pd\n",
    "\n",
    "# Print current working directory\n",
    "print(\"Current working directory:\", os.getcwd())\n",
    "\n",
    "# List files in the current directory for debugging\n",
    "print(\"Files in the current directory:\", os.listdir())\n",
    "\n",
    "# Define the path to the input file\n",
    "input_file_path = 'Input.xlsx'\n",
    "\n",
    "# Print the full path for debugging\n",
    "full_path = os.path.abspath(input_file_path)\n",
    "print(f\"Looking for file at: {full_path}\")\n",
    "\n",
    "# Check if the file exists\n",
    "if not os.path.exists(full_path):\n",
    "    raise FileNotFoundError(f\"File not found: {full_path}\")\n",
    "\n",
    "# Function to extract article (implement your logic here)\n",
    "def extract_article(url):\n",
    "    # Dummy implementation\n",
    "    title = \"Article Title\"\n",
    "    text = \"Article text content\"\n",
    "    return title, text\n",
    "\n",
    "# Functions for text analysis (implement your logic here)\n",
    "def compute_positive_score(text):\n",
    "    return 0  # Dummy value\n",
    "\n",
    "def compute_negative_score(text):\n",
    "    return 0  # Dummy value\n",
    "\n",
    "# Main Script\n",
    "if __name__ == \"__main__\":\n",
    "    try:\n",
    "        # Read input file\n",
    "        input_df = pd.read_excel(full_path)\n",
    "        \n",
    "        # Extract articles\n",
    "        for index, row in input_df.iterrows():\n",
    "            url = row['URL']\n",
    "            url_id = row['URL_ID']\n",
    "            title, text = extract_article(url)\n",
    "            with open(f'{url_id}.txt', 'w') as file:\n",
    "                file.write(f\"{title}\\n{text}\")\n",
    "\n",
    "        # Perform text analysis and save results\n",
    "        output_data = []\n",
    "        for index, row in input_df.iterrows():\n",
    "            url_id = row['URL_ID']\n",
    "            with open(f'{url_id}.txt', 'r') as file:\n",
    "                text = file.read()\n",
    "            # Compute all variables\n",
    "            positive_score = compute_positive_score(text)\n",
    "            negative_score = compute_negative_score(text)\n",
    "            # Append results to output_data\n",
    "            output_data.append([\n",
    "                url_id, positive_score, negative_score, \n",
    "                # Add other computed variables here\n",
    "            ])\n",
    "\n",
    "        # Save output data to Excel/CSV\n",
    "        output_df = pd.DataFrame(output_data, columns=[\n",
    "            'URL_ID', 'POSITIVE SCORE', 'NEGATIVE SCORE', \n",
    "            # Add other column names here\n",
    "        ])\n",
    "        output_df.to_excel('Output.xlsx', index=False)\n",
    "        \n",
    "    except FileNotFoundError as e:\n",
    "        print(e)\n",
    "    except Exception as e:\n",
    "        print(f\"An error occurred: {e}\")\n"
   ]
  },
  {
   "cell_type": "code",
   "execution_count": null,
   "id": "dce60765",
   "metadata": {},
   "outputs": [],
   "source": []
  }
 ],
 "metadata": {
  "kernelspec": {
   "display_name": "Python 3 (ipykernel)",
   "language": "python",
   "name": "python3"
  },
  "language_info": {
   "codemirror_mode": {
    "name": "ipython",
    "version": 3
   },
   "file_extension": ".py",
   "mimetype": "text/x-python",
   "name": "python",
   "nbconvert_exporter": "python",
   "pygments_lexer": "ipython3",
   "version": "3.10.9"
  }
 },
 "nbformat": 4,
 "nbformat_minor": 5
}
